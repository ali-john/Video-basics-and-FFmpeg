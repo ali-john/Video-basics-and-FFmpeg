{
 "cells": [
  {
   "cell_type": "markdown",
   "metadata": {},
   "source": [
    "## What is FFmpeg?\n",
    "- FFmpeg is the leading multimedia framework, able to decode, encode, transcode, mux, demux, stream, filter and play pretty much anything that humans and machines have created. It supports the most obscure ancient formats up to the cutting edge.\n",
    "- FFmpeg supports about 460 codecs and 370 formats, you can check using ffmpeg -codecs, ffmpeg -formats\n"
   ]
  },
  {
   "cell_type": "markdown",
   "metadata": {},
   "source": [
    "# FFmpeg usage:"
   ]
  },
  {
   "cell_type": "code",
   "execution_count": 33,
   "metadata": {},
   "outputs": [],
   "source": [
    "DATA_DIR  = './material/'\n",
    "OUTPUT_DIR = './outputs/'"
   ]
  },
  {
   "cell_type": "markdown",
   "metadata": {},
   "source": [
    "### FFplay and FFprobe\n",
    "FFmpeg is the name of the main binary and the project itself, but it is shipped together with two other binaries, ffplay and ffprobe.\n",
    "- FFplay is a basic video player, that can be used for playing media. It's not a friendly video player, but it is a good testing ground for various things. To execute it, just simply supply a media file\n",
    "- FFprobe, as its name implies, is a tool for getting information about media files."
   ]
  },
  {
   "cell_type": "code",
   "execution_count": 38,
   "metadata": {},
   "outputs": [
    {
     "name": "stdout",
     "output_type": "stream",
     "text": [
      "ffplay version 6.1.1 Copyright (c) 2003-2023 the FFmpeg developers\n",
      "  built with Apple clang version 15.0.0 (clang-1500.1.0.2.5)\n",
      "  configuration: --prefix=/opt/homebrew/Cellar/ffmpeg/6.1.1_3 --enable-shared --enable-pthreads --enable-version3 --cc=clang --host-cflags= --host-ldflags='-Wl,-ld_classic' --enable-ffplay --enable-gnutls --enable-gpl --enable-libaom --enable-libaribb24 --enable-libbluray --enable-libdav1d --enable-libharfbuzz --enable-libjxl --enable-libmp3lame --enable-libopus --enable-librav1e --enable-librist --enable-librubberband --enable-libsnappy --enable-libsrt --enable-libssh --enable-libsvtav1 --enable-libtesseract --enable-libtheora --enable-libvidstab --enable-libvmaf --enable-libvorbis --enable-libvpx --enable-libwebp --enable-libx264 --enable-libx265 --enable-libxml2 --enable-libxvid --enable-lzma --enable-libfontconfig --enable-libfreetype --enable-frei0r --enable-libass --enable-libopencore-amrnb --enable-libopencore-amrwb --enable-libopenjpeg --enable-libopenvino --enable-libspeex --enable-libsoxr --enable-libzmq --enable-libzimg --disable-libjack --disable-indev=jack --enable-videotoolbox --enable-audiotoolbox --enable-neon\n",
      "  libavutil      58. 29.100 / 58. 29.100\n",
      "  libavcodec     60. 31.102 / 60. 31.102\n",
      "  libavformat    60. 16.100 / 60. 16.100\n",
      "  libavdevice    60.  3.100 / 60.  3.100\n",
      "  libavfilter     9. 12.100 /  9. 12.100\n",
      "  libswscale      7.  5.100 /  7.  5.100\n",
      "  libswresample   4. 12.100 /  4. 12.100\n",
      "  libpostproc    57.  3.100 / 57.  3.100\n",
      "Input #0, mov,mp4,m4a,3gp,3g2,mj2, from './material/bbb_sunflower_1080p_60fps_normal.mp4':\n",
      "  Metadata:\n",
      "    major_brand     : isom\n",
      "    minor_version   : 1\n",
      "    compatible_brands: isomavc1\n",
      "    creation_time   : 2013-12-16T17:59:32.000000Z\n",
      "    title           : Big Buck Bunny, Sunflower version\n",
      "    artist          : Blender Foundation 2008, Janus Bager Kristensen 2013\n",
      "    comment         : Creative Commons Attribution 3.0 - http://bbb3d.renderfarming.net\n",
      "    genre           : Animation\n",
      "    composer        : Sacha Goedegebure\n",
      "  Duration: 00:10:34.57, start: 0.000000, bitrate: 4486 kb/s\n",
      "  Stream #0:0[0x1](und): Video: h264 (High) (avc1 / 0x31637661), yuv420p(progressive), 1920x1080 [SAR 1:1 DAR 16:9], 4001 kb/s, 60 fps, 60 tbr, 60k tbn (default)\n",
      "    Metadata:\n",
      "      creation_time   : 2013-12-16T17:59:32.000000Z\n",
      "      handler_name    : GPAC ISO Video Handler\n",
      "      vendor_id       : [0][0][0][0]\n",
      "  Stream #0:1[0x2](und): Audio: mp3 (mp4a / 0x6134706D), 48000 Hz, stereo, fltp, 160 kb/s (default)\n",
      "    Metadata:\n",
      "      creation_time   : 2013-12-16T17:59:37.000000Z\n",
      "      handler_name    : GPAC ISO Audio Handler\n",
      "      vendor_id       : [0][0][0][0]\n",
      "  Stream #0:2[0x3](und): Audio: ac3 (ac-3 / 0x332D6361), 48000 Hz, 5.1(side), fltp, 320 kb/s (default)\n",
      "    Metadata:\n",
      "      creation_time   : 2013-12-16T17:59:37.000000Z\n",
      "      handler_name    : GPAC ISO Audio Handler\n",
      "      vendor_id       : [0][0][0][0]\n",
      "    Side data:\n",
      "      audio service type: main\n",
      "   7.75 A-V: -0.030 fd=  13 aq=   20KB vq= 1281KB sq=    0B f=0/0   \n"
     ]
    }
   ],
   "source": [
    "!ffplay \"{DATA_DIR}bbb_sunflower_1080p_60fps_normal.mp4\""
   ]
  },
  {
   "cell_type": "code",
   "execution_count": 39,
   "metadata": {},
   "outputs": [
    {
     "name": "stdout",
     "output_type": "stream",
     "text": [
      "ffprobe version 6.1.1 Copyright (c) 2007-2023 the FFmpeg developers\n",
      "  built with Apple clang version 15.0.0 (clang-1500.1.0.2.5)\n",
      "  configuration: --prefix=/opt/homebrew/Cellar/ffmpeg/6.1.1_3 --enable-shared --enable-pthreads --enable-version3 --cc=clang --host-cflags= --host-ldflags='-Wl,-ld_classic' --enable-ffplay --enable-gnutls --enable-gpl --enable-libaom --enable-libaribb24 --enable-libbluray --enable-libdav1d --enable-libharfbuzz --enable-libjxl --enable-libmp3lame --enable-libopus --enable-librav1e --enable-librist --enable-librubberband --enable-libsnappy --enable-libsrt --enable-libssh --enable-libsvtav1 --enable-libtesseract --enable-libtheora --enable-libvidstab --enable-libvmaf --enable-libvorbis --enable-libvpx --enable-libwebp --enable-libx264 --enable-libx265 --enable-libxml2 --enable-libxvid --enable-lzma --enable-libfontconfig --enable-libfreetype --enable-frei0r --enable-libass --enable-libopencore-amrnb --enable-libopencore-amrwb --enable-libopenjpeg --enable-libopenvino --enable-libspeex --enable-libsoxr --enable-libzmq --enable-libzimg --disable-libjack --disable-indev=jack --enable-videotoolbox --enable-audiotoolbox --enable-neon\n",
      "  libavutil      58. 29.100 / 58. 29.100\n",
      "  libavcodec     60. 31.102 / 60. 31.102\n",
      "  libavformat    60. 16.100 / 60. 16.100\n",
      "  libavdevice    60.  3.100 / 60.  3.100\n",
      "  libavfilter     9. 12.100 /  9. 12.100\n",
      "  libswscale      7.  5.100 /  7.  5.100\n",
      "  libswresample   4. 12.100 /  4. 12.100\n",
      "  libpostproc    57.  3.100 / 57.  3.100\n",
      "Input #0, mov,mp4,m4a,3gp,3g2,mj2, from './material/bbb_sunflower_1080p_60fps_normal.mp4':\n",
      "  Metadata:\n",
      "    major_brand     : isom\n",
      "    minor_version   : 1\n",
      "    compatible_brands: isomavc1\n",
      "    creation_time   : 2013-12-16T17:59:32.000000Z\n",
      "    title           : Big Buck Bunny, Sunflower version\n",
      "    artist          : Blender Foundation 2008, Janus Bager Kristensen 2013\n",
      "    comment         : Creative Commons Attribution 3.0 - http://bbb3d.renderfarming.net\n",
      "    genre           : Animation\n",
      "    composer        : Sacha Goedegebure\n",
      "  Duration: 00:10:34.57, start: 0.000000, bitrate: 4486 kb/s\n",
      "  Stream #0:0[0x1](und): Video: h264 (High) (avc1 / 0x31637661), yuv420p(progressive), 1920x1080 [SAR 1:1 DAR 16:9], 4001 kb/s, 60 fps, 60 tbr, 60k tbn (default)\n",
      "    Metadata:\n",
      "      creation_time   : 2013-12-16T17:59:32.000000Z\n",
      "      handler_name    : GPAC ISO Video Handler\n",
      "      vendor_id       : [0][0][0][0]\n",
      "  Stream #0:1[0x2](und): Audio: mp3 (mp4a / 0x6134706D), 48000 Hz, stereo, fltp, 160 kb/s (default)\n",
      "    Metadata:\n",
      "      creation_time   : 2013-12-16T17:59:37.000000Z\n",
      "      handler_name    : GPAC ISO Audio Handler\n",
      "      vendor_id       : [0][0][0][0]\n",
      "  Stream #0:2[0x3](und): Audio: ac3 (ac-3 / 0x332D6361), 48000 Hz, 5.1(side), fltp, 320 kb/s (default)\n",
      "    Metadata:\n",
      "      creation_time   : 2013-12-16T17:59:37.000000Z\n",
      "      handler_name    : GPAC ISO Audio Handler\n",
      "      vendor_id       : [0][0][0][0]\n",
      "    Side data:\n",
      "      audio service type: main\n"
     ]
    }
   ],
   "source": [
    "!ffprobe \"{DATA_DIR}bbb_sunflower_1080p_60fps_normal.mp4\""
   ]
  },
  {
   "cell_type": "code",
   "execution_count": null,
   "metadata": {},
   "outputs": [],
   "source": [
    "# we can get the same listing in a JSON format using FFprobe\n",
    "!ffprobe -v error -hide_banner -print_format json -show_streams \"{DATA_DIR}bbb_sunflower_1080p_60fps_normal.mp4\"\n",
    "\n",
    "#\n",
    "#- v error -hide_banner: This part hides extra output, such as headers and the default build information.\n",
    "#- print_format json: this causes the ffprobe to output a JSON\n",
    "#-show_streams is the main switch that requests the stream information\n"
   ]
  },
  {
   "cell_type": "markdown",
   "metadata": {},
   "source": [
    "### FFmpeg concepts:\n",
    "- *Inputs*: FFmpeg deals with most media files, input sources can be network, hardware devices, webcam etc. FFmpeg can open multiple input files in one go.\n",
    "- *Strams*: streams are basic building blocks of containers. Every input file must have atleast one stream. So, building block hierarchy is File->Stream->Channels\n",
    "- *Output*: It could be a local file, but it does not need to be. It could be a socket and so on. In the same way as with inputs, you could have multiple outputs, and the mapping determines what goes into which output file.\n",
    "- *Mapping*: Mapping refers to the act of connecting input file streams with output file streams. So if you give 3 input files and 4 output files to FFmpeg, you must also define what should go to where.\n",
    "- *Filtering*: This allow ffmpeg to modify the decoded frames."
   ]
  },
  {
   "cell_type": "markdown",
   "metadata": {},
   "source": [
    "### FFmpeg command line system:"
   ]
  },
  {
   "cell_type": "markdown",
   "metadata": {},
   "source": [
    "### FFmpeg command line order\n",
    "FFmpeg manual has the following CLI order:\n",
    "- ffmpeg [global_options] {[input_file_options] -i input_url} ... {[output_file_options] output_url} ...\n",
    "<br>\n",
    "\n",
    "\n",
    "(Parts in [...] are meant to be optional, and parts in {...} are meant to be specified 1 or more times.)\n",
    "<br>\n",
    "<br>\n",
    "As for the *global options*, these ones are the important ones:\n",
    "- -hide_banner: To skip printing the banner\n",
    "- y: To overwrite the output even if it exists\n",
    "\n",
    "Important *Input file options*:\n",
    "- t [duration]: Set the duration of media file\n",
    "- -ss [position]: Seek to a specific position in the input file (e.g., -ss 00:01:00 to start at 1 minute)\n",
    "\n",
    "Important *Output file options*:\n",
    "- -c:v [codec]: Specify the video codec (e.g., libx264, mpeg4)\n",
    "- -c:a [codec]: Specify the audio codec (e.g., aac, mp3)\n",
    "- -b:v [bitrate]: Set the video bitrate (e.g., -b:v 1M for 1 megabit per second)\n",
    "- -b:a [bitrate]: Set the audio bitrate (e.g., -b:a 128k for 128 kilobits per second)\n",
    "- -r [fps]: Set the frame rate (e.g., -r 30 for 30 frames per second)\n",
    "- -s [size]: Set the frame size (e.g., -s 1280x720 for 720p)"
   ]
  },
  {
   "cell_type": "code",
   "execution_count": null,
   "metadata": {},
   "outputs": [],
   "source": [
    "# providing input file\n",
    "!ffmpeg -i \"{DATA_DIR}bbb_sunflower_1080p_60fps_normal.mp4\"\n",
    "\n",
    "# Banner contains ffmpeg build information\n",
    "# Input streams\n",
    "# Error message"
   ]
  },
  {
   "cell_type": "code",
   "execution_count": 40,
   "metadata": {},
   "outputs": [
    {
     "name": "stdout",
     "output_type": "stream",
     "text": [
      "ffmpeg version 6.1.1 Copyright (c) 2000-2023 the FFmpeg developers\n",
      "  built with Apple clang version 15.0.0 (clang-1500.1.0.2.5)\n",
      "  configuration: --prefix=/opt/homebrew/Cellar/ffmpeg/6.1.1_3 --enable-shared --enable-pthreads --enable-version3 --cc=clang --host-cflags= --host-ldflags='-Wl,-ld_classic' --enable-ffplay --enable-gnutls --enable-gpl --enable-libaom --enable-libaribb24 --enable-libbluray --enable-libdav1d --enable-libharfbuzz --enable-libjxl --enable-libmp3lame --enable-libopus --enable-librav1e --enable-librist --enable-librubberband --enable-libsnappy --enable-libsrt --enable-libssh --enable-libsvtav1 --enable-libtesseract --enable-libtheora --enable-libvidstab --enable-libvmaf --enable-libvorbis --enable-libvpx --enable-libwebp --enable-libx264 --enable-libx265 --enable-libxml2 --enable-libxvid --enable-lzma --enable-libfontconfig --enable-libfreetype --enable-frei0r --enable-libass --enable-libopencore-amrnb --enable-libopencore-amrwb --enable-libopenjpeg --enable-libopenvino --enable-libspeex --enable-libsoxr --enable-libzmq --enable-libzimg --disable-libjack --disable-indev=jack --enable-videotoolbox --enable-audiotoolbox --enable-neon\n",
      "  libavutil      58. 29.100 / 58. 29.100\n",
      "  libavcodec     60. 31.102 / 60. 31.102\n",
      "  libavformat    60. 16.100 / 60. 16.100\n",
      "  libavdevice    60.  3.100 / 60.  3.100\n",
      "  libavfilter     9. 12.100 /  9. 12.100\n",
      "  libswscale      7.  5.100 /  7.  5.100\n",
      "  libswresample   4. 12.100 /  4. 12.100\n",
      "  libpostproc    57.  3.100 / 57.  3.100\n",
      "Input #0, mov,mp4,m4a,3gp,3g2,mj2, from './material/bbb_sunflower_1080p_60fps_normal.mp4':\n",
      "  Metadata:\n",
      "    major_brand     : isom\n",
      "    minor_version   : 1\n",
      "    compatible_brands: isomavc1\n",
      "    creation_time   : 2013-12-16T17:59:32.000000Z\n",
      "    title           : Big Buck Bunny, Sunflower version\n",
      "    artist          : Blender Foundation 2008, Janus Bager Kristensen 2013\n",
      "    comment         : Creative Commons Attribution 3.0 - http://bbb3d.renderfarming.net\n",
      "    genre           : Animation\n",
      "    composer        : Sacha Goedegebure\n",
      "  Duration: 00:10:34.57, start: 0.000000, bitrate: 4486 kb/s\n",
      "  Stream #0:0[0x1](und): Video: h264 (High) (avc1 / 0x31637661), yuv420p(progressive), 1920x1080 [SAR 1:1 DAR 16:9], 4001 kb/s, 60 fps, 60 tbr, 60k tbn (default)\n",
      "    Metadata:\n",
      "      creation_time   : 2013-12-16T17:59:32.000000Z\n",
      "      handler_name    : GPAC ISO Video Handler\n",
      "      vendor_id       : [0][0][0][0]\n",
      "  Stream #0:1[0x2](und): Audio: mp3 (mp4a / 0x6134706D), 48000 Hz, stereo, fltp, 160 kb/s (default)\n",
      "    Metadata:\n",
      "      creation_time   : 2013-12-16T17:59:37.000000Z\n",
      "      handler_name    : GPAC ISO Audio Handler\n",
      "      vendor_id       : [0][0][0][0]\n",
      "  Stream #0:2[0x3](und): Audio: ac3 (ac-3 / 0x332D6361), 48000 Hz, 5.1(side), fltp, 320 kb/s (default)\n",
      "    Metadata:\n",
      "      creation_time   : 2013-12-16T17:59:37.000000Z\n",
      "      handler_name    : GPAC ISO Audio Handler\n",
      "      vendor_id       : [0][0][0][0]\n",
      "    Side data:\n",
      "      audio service type: main\n",
      "File './outputs/audio_only.wav' already exists. Overwrite? [y/N] ^C\n"
     ]
    }
   ],
   "source": [
    "# specifying the output file\n",
    "!ffmpeg -i \"{DATA_DIR}bbb_sunflower_1080p_60fps_normal.mp4\" \"{OUTPUT_DIR}audio_only.wav\"\n",
    "\n",
    "# ffmpeg automatically maps index 0 file's third stream to output file 1st stream\n",
    "# we can manipulate the order of streams, we will look in following commands\n"
   ]
  },
  {
   "cell_type": "code",
   "execution_count": null,
   "metadata": {},
   "outputs": [],
   "source": [
    "# Now if we want to get the stereo track, we can use mapping\n",
    "!ffmpeg -i \"{DATA_DIR}bbb_sunflower_1080p_60fps_normal.mp4\" -map 0:1 \"{OUTPUT_DIR}stereo_audio_only.wav\""
   ]
  },
  {
   "cell_type": "code",
   "execution_count": 20,
   "metadata": {},
   "outputs": [],
   "source": [
    "# Let's say we want to extract BOTH audio streams into seperate WAV files:\n",
    "!ffmpeg -v error -hide_banner -y -i \"{DATA_DIR}bbb_sunflower_1080p_60fps_normal.mp4\" -map 0:1 \"{OUTPUT_DIR}stereo_audio_only.wav\" -map 0:2 \"{OUTPUT_DIR}audio_only.wav\""
   ]
  },
  {
   "cell_type": "code",
   "execution_count": 22,
   "metadata": {},
   "outputs": [],
   "source": [
    "# We can output different audio qualities:\n",
    "!ffmpeg -v error -hide_banner -y -i \"{DATA_DIR}bbb_sunflower_1080p_60fps_normal.mp4\" \\\n",
    "    -map 0:1 -b:a 320k \"{OUTPUT_DIR}stereo_audio_only_high_quality.mp3\"\\\n",
    "        -map 0:1 -b:a 64k \"{OUTPUT_DIR}stereo_audio_only_low_quality.mp3\""
   ]
  },
  {
   "cell_type": "code",
   "execution_count": 25,
   "metadata": {},
   "outputs": [],
   "source": [
    "# We saw ffmpeg can read files from multiple souces. Let's say, I want to save BW \n",
    "# and only want to download a 5sec sample of video, using ffmpeg, we can do it: \n",
    "\n",
    "!ffmpeg -v error -hide_banner -y -t 5 -i http://distribution.bbb3d.renderfarming.net/video/mp4/bbb_sunflower_1080p_60fps_normal.mp4 bbb_first_5_seconds.mp4\n"
   ]
  },
  {
   "cell_type": "markdown",
   "metadata": {},
   "source": [
    "### Transcoding video with FFmpeg:"
   ]
  },
  {
   "cell_type": "code",
   "execution_count": null,
   "metadata": {},
   "outputs": [],
   "source": [
    "# encoding with H.264 (AVC)\n",
    "!ffmpeg -v error -hide_banner -y -i \"{DATA_DIR}bbb_sunflower_1080p_60fps_normal.mp4\" \\\n",
    "-c:v libx264 -preset slow -crf 22 \\\n",
    "-map 0:0 -map 0:1 \\\n",
    "-acodec aac -ar 44100 -b:a 320k \"{OUTPUT_DIR}bbb_transcoded_h264_HQ.mov\""
   ]
  },
  {
   "cell_type": "code",
   "execution_count": null,
   "metadata": {},
   "outputs": [],
   "source": [
    "# encoding with HEVC\n",
    "!ffmpeg -v error -hide_banner -y -i \"{DATA_DIR}bbb_sunflower_1080p_60fps_normal.mp4\" \\\n",
    "-c:v libx265 -preset slow -crf 27 \\\n",
    "-map 0:0 -map 0:1 \\\n",
    "-acodec aac -ar 44100 -b:a 320k \"{OUTPUT_DIR}bbb_transcoded_h265_HQ.mov\""
   ]
  },
  {
   "cell_type": "code",
   "execution_count": 34,
   "metadata": {},
   "outputs": [],
   "source": [
    "# doubling the framerate of a video\n",
    "!ffmpeg -v error -hide_banner -y -i \"{DATA_DIR}bbb_sunflower_1080p_60fps_normal.mp4\"\\\n",
    "-ss 00:00:10 -t 00:00:05 -vf \"fps=120\" -c:a copy \"{OUTPUT_DIR}doubled_framerate.mp4\"\n"
   ]
  },
  {
   "cell_type": "code",
   "execution_count": 37,
   "metadata": {},
   "outputs": [],
   "source": [
    "# Creating DASH manifest\n",
    "!ffmpeg -v error -hide_banner -y -i \"{DATA_DIR}bbb_sunflower_1080p_60fps_normal.mp4\" -t 10 \\\n",
    "  -map 0:v -map 0:a \\\n",
    "  -b:v:0 3000k -s:v:0 1920x1080 \\\n",
    "  -b:v:1 1500k -s:v:1 1280x720 \\\n",
    "  -b:v:2 800k -s:v:2 640x360 \\\n",
    "  -b:a 128k \\\n",
    "  -use_timeline 1 -use_template 1 \\\n",
    "  -adaptation_sets \"id=0,streams=v id=1,streams=a\" \\\n",
    "  -f dash \"{OUTPUT_DIR}output.mpd\"\n"
   ]
  }
 ],
 "metadata": {
  "kernelspec": {
   "display_name": "base",
   "language": "python",
   "name": "python3"
  },
  "language_info": {
   "codemirror_mode": {
    "name": "ipython",
    "version": 3
   },
   "file_extension": ".py",
   "mimetype": "text/x-python",
   "name": "python",
   "nbconvert_exporter": "python",
   "pygments_lexer": "ipython3",
   "version": "3.10.12"
  }
 },
 "nbformat": 4,
 "nbformat_minor": 2
}
